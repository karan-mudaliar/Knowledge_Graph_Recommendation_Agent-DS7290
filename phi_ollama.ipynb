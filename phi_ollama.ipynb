{
 "cells": [
  {
   "cell_type": "code",
   "execution_count": 185,
   "metadata": {},
   "outputs": [],
   "source": [
    "from langchain_community.llms import Ollama\n",
    "from langchain.callbacks.streaming_stdout import StreamingStdOutCallbackHandler\n",
    "from langchain.callbacks.manager import CallbackManager\n",
    "from langchain.memory import ConversationBufferWindowMemory\n",
    "from langchain.chains import ConversationChain\n",
    "from dotenv import load_dotenv\n",
    "import os"
   ]
  },
  {
   "cell_type": "code",
   "execution_count": 186,
   "metadata": {},
   "outputs": [
    {
     "name": "stdout",
     "output_type": "stream",
     "text": [
      "\u001b[31mERROR: Could not find a version that satisfies the requirement watchog (from versions: none)\u001b[0m\u001b[31m\n",
      "\u001b[0m\u001b[31mERROR: No matching distribution found for watchog\u001b[0m\u001b[31m\n",
      "\u001b[0m"
     ]
    }
   ],
   "source": [
    "!pip install watchog"
   ]
  },
  {
   "cell_type": "code",
   "execution_count": 166,
   "metadata": {},
   "outputs": [
    {
     "data": {
      "text/plain": [
       "True"
      ]
     },
     "execution_count": 166,
     "metadata": {},
     "output_type": "execute_result"
    }
   ],
   "source": [
    "load_dotenv()"
   ]
  },
  {
   "cell_type": "code",
   "execution_count": 173,
   "metadata": {},
   "outputs": [],
   "source": [
    "%%capture\n",
    "%run query_generator.ipynb"
   ]
  },
  {
   "cell_type": "code",
   "execution_count": 174,
   "metadata": {},
   "outputs": [],
   "source": [
    "NEO4J_URL = os.getenv('NEO4J_URL')\n",
    "NEO4J_USERNAME = os.getenv('NEO4J_USERNAME')\n",
    "NEO4J_PASSWORD = os.getenv('NEO4J_PASSWORD')\n",
    "NEO4J_DATABASE = os.getenv('NEO4J_DATABASE') or 'neo4j'\n"
   ]
  },
  {
   "cell_type": "code",
   "execution_count": 175,
   "metadata": {},
   "outputs": [],
   "source": [
    "neo4j_driver = GraphDatabase.driver(\n",
    "    uri=NEO4J_URL, \n",
    "    auth = (NEO4J_USERNAME,NEO4J_PASSWORD), \n",
    "    database=NEO4J_DATABASE,\n",
    "    connection_timeout = 50*60\n",
    ")\n",
    "\n",
    "client = OpenAI()"
   ]
  },
  {
   "cell_type": "code",
   "execution_count": 179,
   "metadata": {},
   "outputs": [],
   "source": [
    "SYSTEM_PROMPT = \"\"\"1)You are a helpful movie expert agent that is polite, who talks and helps users find something they like, recommend them more movies, learn more about movies, or find its rating. \n",
    "                   2)You will be given user prompt along with some context to help you generate responses. Write recommendations based on the context. \n",
    "                   3)You will not answer anything outside movie, tv,actor or any related domain. If something outside this domain is asked you will say, I'm sorry but I cant help you with this. \n",
    "                   4)Always keeps the responses short and within 5-6 sentences, be nice and helpful\n",
    "                   5)You will be given retrived data from a knowledge graph as context to help you.\n",
    "                   6)ONLY THE USER_PART IS GIVEN BY THE USER, THE CONTEXT IS RETRIEVED FOR YOU SO THAT YOU CAN HELP THE USER.\n",
    "                   7)Always act like the additional context is something you know and you are recommending it. be friendly and talk as an assistant, example - It's great to see you're interested in .....\n",
    "                   8)If additional context has good suggestions, always use it in your recommendations.\n",
    "                   9) Don't recommend or elaborate on anything not provided in the context\n",
    "                   OUTPUT:\n",
    "                   a) If asked about recommendations:\n",
    "                    <text about what the user has mentioned, in a friendly conversational way, and a short summary>\n",
    "                    **Recommendations:** \\n\n",
    "                        1. <movie_1>: A drama .........\n",
    "                        2. <movie_2>: About .........\n",
    "                   b) For anything else, just have a friendly conversation, guiding the user\n",
    "                   \"\"\""
   ]
  },
  {
   "cell_type": "code",
   "execution_count": 180,
   "metadata": {},
   "outputs": [],
   "source": [
    "user_input = 'what are the 3 most highly rated thriller movies you have?'\n",
    "context = get_context(neo4j_driver,client, user_input)\n",
    "prompt = \"\"\"USER_PART : {} \\n CONTEXT: {}\"\"\".format(user_input,context)"
   ]
  },
  {
   "cell_type": "code",
   "execution_count": 181,
   "metadata": {},
   "outputs": [
    {
     "data": {
      "text/plain": [
       "\"USER_PART : what are the 3 most highly rated thriller movies you have? \\n CONTEXT: THIS IS THE EXTRA CONTEXT ******* <Record MovieTitle='Ozymandias' Rating=10.0>\\n<Record MovieTitle='Face Off' Rating=9.9>\\n<Record MovieTitle='Felina' Rating=9.9>\\n\\n<similar movies are []>CONTEXT ENDS *******\""
      ]
     },
     "execution_count": 181,
     "metadata": {},
     "output_type": "execute_result"
    }
   ],
   "source": [
    "prompt"
   ]
  },
  {
   "cell_type": "code",
   "execution_count": 157,
   "metadata": {},
   "outputs": [
    {
     "name": "stdout",
     "output_type": "stream",
     "text": [
      " It's always exciting to dive into the world of thrillers! Based on our knowledge graph, three of the most highly rated thriller movies we have are \"Ozymandias,\" \"Face/Off,\" and \"Felina,\" all with a rating of 9.9 out of 10. Each of these films pushes the boundaries of suspense and intrigue in unique ways.\n",
      "\n",
      "**Recommendations:**\n",
      "\n",
      "1. **Ozymandias**: A gripping and intense piece, this short film is a masterclass in suspense with a powerful narrative that will leave you thinking long after the credits roll.\n",
      "2. **Face/Off**: An action-packed thriller with a unique twist, where two top actors portray each other's characters to deliver an unforgettable performance.\n",
      "3. **Felina**: A thought-provoking and beautifully crafted narrative that explores a man's final hours on what seems like a routine trip, but is anything but.\n",
      "\n",
      "For those who enjoy a good psychological thriller, I would also recommend \"Memento\" (2000), directed by Christopher Nolan. It's a puzzle-box film that will keep you guessing until the very end. Enjoy your movie experience!"
     ]
    }
   ],
   "source": [
    "callback_manager = CallbackManager([StreamingStdOutCallbackHandler()])\n",
    "\n",
    "\n",
    "llm = Ollama(base_url='http://localhost:11434',model=\"wizardlm2\", callbacks=callback_manager, system=SYSTEM_PROMPT)\n",
    "\n",
    "response = llm.invoke(prompt)"
   ]
  },
  {
   "cell_type": "code",
   "execution_count": 182,
   "metadata": {},
   "outputs": [],
   "source": [
    "conversation_with_summary = ConversationChain(\n",
    "    llm=llm,\n",
    "    # We set a low k=2, to only keep the last 2 interactions in memory\n",
    "    memory=ConversationBufferWindowMemory(k=1),\n",
    "    verbose=False\n",
    ")"
   ]
  },
  {
   "cell_type": "code",
   "execution_count": 183,
   "metadata": {},
   "outputs": [
    {
     "name": "stdout",
     "output_type": "stream",
     "text": [
      " It's great to hear you're interested in thriller movies! Based on the high ratings from our knowledge graph, I'd recommend \"Ozymandias,\" a gripping and intense story that has received a perfect score of 10.0. Another top-rated choice is \"Face/Off,\" which showcases an extraordinary performance by Nicolas Cage and John Travolta, both playing each other's roles in a high-stakes game of cat and mouse. Lastly, \"Felina\" directed by Atom Egoyan, is a thought-provoking thriller that will keep you on the edge of your seat with its complex narrative and emotional depth. Each of these films masterfully blends suspense with intricate storytelling.\n",
      "\n",
      "**Recommendations:**\n",
      "1. \"Ozymandias\" (2018) - A short film that delivers a powerful punch in its runtime, exploring themes of morality and justice.\n",
      "2. \"Face/Off\" (1997) - A visually stylish and action-packed thriller with a unique premise.\n",
      "3. \"Felina\" (2013) - A deeply moving and complex narrative that explores the connections between seemingly unrelated events."
     ]
    },
    {
     "data": {
      "text/plain": [
       "' It\\'s great to hear you\\'re interested in thriller movies! Based on the high ratings from our knowledge graph, I\\'d recommend \"Ozymandias,\" a gripping and intense story that has received a perfect score of 10.0. Another top-rated choice is \"Face/Off,\" which showcases an extraordinary performance by Nicolas Cage and John Travolta, both playing each other\\'s roles in a high-stakes game of cat and mouse. Lastly, \"Felina\" directed by Atom Egoyan, is a thought-provoking thriller that will keep you on the edge of your seat with its complex narrative and emotional depth. Each of these films masterfully blends suspense with intricate storytelling.\\n\\n**Recommendations:**\\n1. \"Ozymandias\" (2018) - A short film that delivers a powerful punch in its runtime, exploring themes of morality and justice.\\n2. \"Face/Off\" (1997) - A visually stylish and action-packed thriller with a unique premise.\\n3. \"Felina\" (2013) - A deeply moving and complex narrative that explores the connections between seemingly unrelated events.'"
      ]
     },
     "execution_count": 183,
     "metadata": {},
     "output_type": "execute_result"
    }
   ],
   "source": [
    "conversation_with_summary.predict(input=prompt)"
   ]
  },
  {
   "cell_type": "code",
   "execution_count": null,
   "metadata": {},
   "outputs": [],
   "source": []
  }
 ],
 "metadata": {
  "kernelspec": {
   "display_name": "KG",
   "language": "python",
   "name": "python3"
  },
  "language_info": {
   "codemirror_mode": {
    "name": "ipython",
    "version": 3
   },
   "file_extension": ".py",
   "mimetype": "text/x-python",
   "name": "python",
   "nbconvert_exporter": "python",
   "pygments_lexer": "ipython3",
   "version": "3.11.4"
  }
 },
 "nbformat": 4,
 "nbformat_minor": 2
}
