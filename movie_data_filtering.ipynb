{
 "cells": [
  {
   "cell_type": "code",
   "execution_count": null,
   "metadata": {},
   "outputs": [],
   "source": [
    "import pandas as pd\n",
    "import numpy as np"
   ]
  },
  {
   "cell_type": "code",
   "execution_count": null,
   "metadata": {},
   "outputs": [],
   "source": [
    "# Assuming the file is in the same directory as your Python script\n",
    "file_path = \"imdb_data/title.basics.tsv\"\n",
    "\n",
    "# Load the TSV file into a pandas DataFrame\n",
    "movie_title_df = pd.read_csv(file_path, sep='\\t')\n",
    "\n",
    "movie_title_df['startYear'] = pd.to_numeric(movie_title_df['startYear'], errors='coerce')\n",
    "movie_title_df['runtimeMinutes'] = pd.to_numeric(movie_title_df['runtimeMinutes'], errors='coerce')\n",
    "# Display the first few rows of the DataFrame to verify it loaded correctly\n",
    "movie_title_df.info()"
   ]
  },
  {
   "cell_type": "code",
   "execution_count": null,
   "metadata": {},
   "outputs": [],
   "source": [
    "movie_title_df.head()"
   ]
  },
  {
   "cell_type": "code",
   "execution_count": null,
   "metadata": {},
   "outputs": [],
   "source": [
    "file_path = \"imdb_data/title.ratings.tsv\"\n",
    "\n",
    "# Load the TSV file into a pandas DataFrame\n",
    "ratings_df = pd.read_csv(file_path, sep='\\t')"
   ]
  },
  {
   "cell_type": "code",
   "execution_count": null,
   "metadata": {},
   "outputs": [],
   "source": [
    "ratings_df.head()"
   ]
  },
  {
   "cell_type": "code",
   "execution_count": null,
   "metadata": {},
   "outputs": [],
   "source": [
    "filtered_ratings_df = ratings_df[(ratings_df['averageRating'] >= 7) & (ratings_df['numVotes'] >= 10000)]"
   ]
  },
  {
   "cell_type": "code",
   "execution_count": null,
   "metadata": {},
   "outputs": [],
   "source": [
    "filtered_ratings_df.info()\n",
    "filtered_ratings_df.head()"
   ]
  },
  {
   "cell_type": "code",
   "execution_count": null,
   "metadata": {},
   "outputs": [],
   "source": [
    "filtered_ratings_df.to_csv('/Users/karan_mudaliar/Desktop/CS 7290/Project/clean_data/movie_ratings_clean.csv', index=False)"
   ]
  },
  {
   "cell_type": "code",
   "execution_count": null,
   "metadata": {},
   "outputs": [],
   "source": []
  }
 ],
 "metadata": {
  "kernelspec": {
   "display_name": "KG",
   "language": "python",
   "name": "python3"
  },
  "language_info": {
   "codemirror_mode": {
    "name": "ipython",
    "version": 3
   },
   "file_extension": ".py",
   "mimetype": "text/x-python",
   "name": "python",
   "nbconvert_exporter": "python",
   "pygments_lexer": "ipython3",
   "version": "3.11.4"
  }
 },
 "nbformat": 4,
 "nbformat_minor": 2
}
