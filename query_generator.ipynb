{
 "cells": [
  {
   "cell_type": "code",
   "execution_count": 264,
   "metadata": {},
   "outputs": [],
   "source": [
    "from dotenv import load_dotenv\n",
    "import os\n",
    "from neo4j import GraphDatabase\n",
    "from openai import OpenAI\n",
    "import ast"
   ]
  },
  {
   "cell_type": "code",
   "execution_count": 265,
   "metadata": {},
   "outputs": [
    {
     "data": {
      "text/plain": [
       "True"
      ]
     },
     "execution_count": 265,
     "metadata": {},
     "output_type": "execute_result"
    }
   ],
   "source": [
    "load_dotenv()"
   ]
  },
  {
   "cell_type": "code",
   "execution_count": 266,
   "metadata": {},
   "outputs": [],
   "source": [
    "NEO4J_URL = os.getenv('NEO4J_URL')\n",
    "NEO4J_USERNAME = os.getenv('NEO4J_USERNAME')\n",
    "NEO4J_PASSWORD = os.getenv('NEO4J_PASSWORD')\n",
    "NEO4J_DATABASE = os.getenv('NEO4J_DATABASE') or 'neo4j'\n"
   ]
  },
  {
   "cell_type": "code",
   "execution_count": 267,
   "metadata": {},
   "outputs": [
    {
     "name": "stderr",
     "output_type": "stream",
     "text": [
      "Failed to write data to connection ResolvedIPv4Address(('34.69.128.95', 7687)) (ResolvedIPv4Address(('34.69.128.95', 7687)))\n",
      "Failed to write data to connection IPv4Address(('ee9ce930.databases.neo4j.io', 7687)) (ResolvedIPv4Address(('34.69.128.95', 7687)))\n"
     ]
    }
   ],
   "source": [
    "neo4j_driver = GraphDatabase.driver(\n",
    "    uri=NEO4J_URL, \n",
    "    auth = (NEO4J_USERNAME,NEO4J_PASSWORD), \n",
    "    database=NEO4J_DATABASE,\n",
    "    connection_timeout = 50*60\n",
    ")\n",
    "\n",
    "client = OpenAI()"
   ]
  },
  {
   "cell_type": "markdown",
   "metadata": {},
   "source": [
    "##MAKE A SEPERATE VECTOR SIMILARITY QUERY PROMT"
   ]
  },
  {
   "cell_type": "code",
   "execution_count": 268,
   "metadata": {},
   "outputs": [],
   "source": [
    "def generate_cypher_query(client, question):\n",
    "    # System message setting the context for the AI\n",
    "    prompt = \"\"\"\n",
    "    You are an expert Neo4j Cypher translator who understands the question in English and converts it to Cypher strictly based on the Neo4j Schema provided and following the instructions below:\n",
    "    1. Generate Cypher query compatible ONLY with Neo4j Version 5\n",
    "    2. Do not use EXISTS, SIZE,toInt keywords in the cypher. Use alias when using the WITH keyword\n",
    "    3. Please do not use same variable names for different nodes and relationships in the query.\n",
    "    4. Use only Nodes and relationships mentioned in the schema\n",
    "    5. Always enclose the Cypher output inside 3 backticks\n",
    "    6. Always do a case-insensitive and fuzzy search for any properties related search. Eg: to search for a Company name use `toLower(c.name) contains 'neo4j'`\n",
    "    8. Always use aliases to refer the node in the query\n",
    "    9. 'Answer' is NOT a Cypher keyword. Answer should never be used in a query.\n",
    "    10. Cypher is NOT SQL. So, do not mix and match the syntaxes.\n",
    "    11. Every Cypher query always starts with a MATCH keyword.\n",
    "    12. Feel free to come up with more queries, outside the sample templates provided if you find they are appropriate.\n",
    "    13. By default filter by all movies to 1990 by using a where clause unless specified\n",
    "    14. Return all queries in the form of a list, separated by a comma\n",
    "    15. Incase no useful information is provided, say recommend something yourself, as the last value in the list\n",
    "    16. BE VERY CAREFUL WITH THE QUERY FOR VECTOR SIMILARITY QUERY, 'CALL db.index.vector.queryNodes' has to always be there\n",
    "    17. Try to come up with as many queries as possible\n",
    "    18.\n",
    "   \n",
    "\n",
    "    Schema Details:\n",
    "    - Node types:\n",
    "      1. Movie: Attributes include id, primaryTitle, titleType, runtimeMinutes, startYear, numVotes, endYear, About, tconst, originalTitle, genres, averageRating, embedding, isAdult.\n",
    "      2. Person: Attributes include id, birthYear, deathYear, primaryProfession, nconst, primaryName.\n",
    "\n",
    "    - Relationships:\n",
    "      1. :DIRECTED_BY (between Person and Movie)\n",
    "      2. :WRITTEN_BY (between Person and Movie)\n",
    "      3. :ACTED_IN (between Person and Movie) with attributes: characters, ordering, job.\n",
    "    \n",
    "    Samples:\n",
    "      1. For querying movies by a specific actor:\n",
    "        Actor Name: <actor_name>\n",
    "        MATCH (p:Person)-[:ACTED_IN]->(m:Movie) WHERE toLower(p.primaryName) contains <actor_name> RETURN m.primaryTitle AS MovieTitle, m.startYear AS ReleaseYear LIMIT 3\n",
    "\n",
    "      2. For querying movies by a specific genre:\n",
    "        Genre: <genre>\n",
    "        Query: MATCH (m:Movie) WHERE '<genre>' in m.genres RETURN m.primaryTitle AS MovieTitle, m.startYear AS ReleaseYear\n",
    "\n",
    "      3. For searching movies by vector similarity to a given movie:\n",
    "        Reference Movie Title: <reference_movie_title>\n",
    "        Number of Results: <number_of_results>\n",
    "        Query: MATCH (m:Movie {{primaryTitle: '<reference_movie_title>'}}) CALL db.index.vector.queryNodes('moviePlots', <number_of_results>, m.embedding) YIELD node, score RETURN node.primaryTitle AS title, node.about AS plot, score\n",
    "\n",
    "      4. For querying movies directed by a specific person:\n",
    "        Director Name: <director_name>\n",
    "        Query: MATCH (p:Person {{primaryName: \"<director_name>\"}})-[:DIRECTED_BY]->(m:Movie) RETURN m.primaryTitle AS MovieTitle, m.startYear AS Release Year\n",
    "\n",
    "      5. For quering moves directed by a specific person and acted in by a specific actor:\n",
    "        Director Name: <director_name>\n",
    "        Actor Name: <actor_name>\n",
    "        Query: MATCH (director:Person {primaryName: \"<director_name>\"})-[:DIRECTED_BY]->(movie:Movie),(actor:Person {primaryName: \"<actor_name>\"})-[:ACTED_IN]->(movie) RETURN movie.tconst AS MovieID, movie.originalTitle AS MovieTitle, director.primaryName AS Director, actor.primaryName AS Actor\n",
    "      \n",
    "      6. For querying who has worked with the most with a particular person in a particular relation\n",
    "        Person Name: <person_name>\n",
    "        Relation: <relation_type_1>\n",
    "        Relation to other person: <realtion_type_2>\n",
    "        Number : <number_mentioned>, by default go for 1\n",
    "        \n",
    "        MATCH (p:Person {primaryName: \"<person_name>\"})-[:<relation_type_1>]->(movie:Movie)<-[:realtion_type_2]-(actor:Person)\n",
    "        WHERE NOT p = actor\n",
    "        RETURN actor.primaryName AS Actor, COUNT(movie) AS NumberOfMovies\n",
    "        ORDER BY NumberOfMovies DESC\n",
    "        LIMIT <number_mentioned>\n",
    "\n",
    "    \n",
    "    Output Format, python list:\n",
    "    [\"query1',\"query2\",...]\n",
    "    \"\"\" \n",
    "    messages = [\n",
    "        {\"role\": \"system\", \"content\": prompt},\n",
    "        {\"role\": \"user\", \"content\": question}\n",
    "    ]\n",
    "\n",
    "    # Generate the completion using GPT-4\n",
    "    completion = client.chat.completions.create(\n",
    "        model=\"gpt-4\",  # Ensure you have access to GPT-4\n",
    "        messages=messages\n",
    "    )\n",
    "\n",
    "    # Extracting the latest message from the completion\n",
    "    # Assuming the last message in the list is the AI's response\n",
    "\n",
    "    return completion.choices[0].message.content\n",
    "\n",
    "def find_similar_movies(client, question):\n",
    "    prompt = \"\"\"\n",
    "    1)You are a movie expert.\n",
    "    2)Based on what the user provides as a prompt, if nothing solid referenceing an actor, genre, director or writer is mentioned, and user only mentions mood, recommend 2 movies, otherwise return empty list.\n",
    "    OUTPUT FORMAT: [Movie1, Movie2, Movie3]\"\"\"\n",
    "    messages = [\n",
    "        {\"role\": \"system\", \"content\": prompt},\n",
    "        {\"role\": \"user\", \"content\": question}\n",
    "    ]\n",
    "    completion = client.chat.completions.create(\n",
    "        model=\"gpt-3.5-turbo-0125\",  # Ensure you have access to GPT-4\n",
    "        messages=messages\n",
    "    )\n",
    "    return completion.choices[0].message.content\n",
    "\n",
    "def execute_queries(driver, queries):\n",
    "    # Connection details\n",
    "    \n",
    "    # Initialize the Neo4j driver\n",
    "    \n",
    "    # Function to execute a single query\n",
    "    def execute_query(session, query):\n",
    "        result = session.run(query)\n",
    "        return [record for record in result]\n",
    "    \n",
    "    # Start a session and execute each query, storing results in a string\n",
    "    results_string = \"\"\n",
    "    with driver.session() as session:\n",
    "        for query in queries:\n",
    "            results = execute_query(session, query)\n",
    "            # Convert each result record to string and join with newlines\n",
    "            results_string += '\\n'.join(str(record) for record in results) + \"\\n\\n\"\n",
    "    \n",
    "    # Close the driver\n",
    "    driver.close()\n",
    "    \n",
    "    return results_string\n",
    "\n",
    "def query_kg(neo4j_driver,string):\n",
    "    try:\n",
    "        # Remove leading and trailing whitespace and newlines\n",
    "        list_of_strings =  ast.literal_eval(string)\n",
    "\n",
    "        # Concatenate all the strings into a single string\n",
    "        combined_results = \"\"\n",
    "        for query in list_of_strings:\n",
    "            with neo4j_driver.session() as session:\n",
    "                result = session.run(query)\n",
    "                for record in result:\n",
    "                    combined_results += str(record) + \"\\n\"\n",
    "\n",
    "        return combined_results\n",
    "    except Exception as e:\n",
    "        return f\"Error: {e}\""
   ]
  },
  {
   "cell_type": "code",
   "execution_count": 269,
   "metadata": {},
   "outputs": [],
   "source": [
    "def get_context(neo4j_driver, open_ai, user_question):\n",
    "    cypher_queries = generate_cypher_query(open_ai, user_question)\n",
    "    context = query_kg(neo4j_driver, cypher_queries)\n",
    "    extra = \"\"\"similar movies are {}\"\"\".format(find_similar_movies(user_question))\n",
    "    context_2 = \"\"\"\\n<{}>\"\"\".format(extra)\n",
    "\n",
    "    return \"THIS IS THE EXTRA CONTEXT ******* \" +context + context_2  + \"CONTEXT ENDS *******\"\n"
   ]
  },
  {
   "cell_type": "code",
   "execution_count": null,
   "metadata": {},
   "outputs": [],
   "source": []
  }
 ],
 "metadata": {
  "kernelspec": {
   "display_name": "KG",
   "language": "python",
   "name": "python3"
  },
  "language_info": {
   "codemirror_mode": {
    "name": "ipython",
    "version": 3
   },
   "file_extension": ".py",
   "mimetype": "text/x-python",
   "name": "python",
   "nbconvert_exporter": "python",
   "pygments_lexer": "ipython3",
   "version": "3.11.4"
  }
 },
 "nbformat": 4,
 "nbformat_minor": 2
}
